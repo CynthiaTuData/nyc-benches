{
 "cells": [
  {
   "cell_type": "code",
   "execution_count": 2,
   "id": "eecd5339",
   "metadata": {},
   "outputs": [],
   "source": [
    "import pandas as pd\n",
    "import re"
   ]
  },
  {
   "cell_type": "code",
   "execution_count": 3,
   "id": "190da8ff",
   "metadata": {},
   "outputs": [
    {
     "data": {
      "text/html": [
       "<div>\n",
       "<style scoped>\n",
       "    .dataframe tbody tr th:only-of-type {\n",
       "        vertical-align: middle;\n",
       "    }\n",
       "\n",
       "    .dataframe tbody tr th {\n",
       "        vertical-align: top;\n",
       "    }\n",
       "\n",
       "    .dataframe thead th {\n",
       "        text-align: right;\n",
       "    }\n",
       "</style>\n",
       "<table border=\"1\" class=\"dataframe\">\n",
       "  <thead>\n",
       "    <tr style=\"text-align: right;\">\n",
       "      <th></th>\n",
       "      <th>the_geom</th>\n",
       "      <th>ObjectID</th>\n",
       "      <th>BoroCode</th>\n",
       "      <th>BoroName</th>\n",
       "      <th>BoroCD</th>\n",
       "      <th>CounDist</th>\n",
       "      <th>AssemDist</th>\n",
       "      <th>StSenDist</th>\n",
       "      <th>CongDist</th>\n",
       "      <th>SiteID</th>\n",
       "      <th>Category</th>\n",
       "      <th>Installati</th>\n",
       "      <th>Address</th>\n",
       "      <th>GeocodeAdd</th>\n",
       "      <th>Street</th>\n",
       "      <th>CrossStree</th>\n",
       "      <th>Borough</th>\n",
       "      <th>ComDist</th>\n",
       "      <th>BusRoute</th>\n",
       "      <th>BID</th>\n",
       "      <th>Latitude</th>\n",
       "      <th>Longitude</th>\n",
       "      <th>NTAName</th>\n",
       "      <th>FEMAFldz</th>\n",
       "      <th>FEMAFldT</th>\n",
       "      <th>HrcEvac</th>\n",
       "      <th>SeatingTyp</th>\n",
       "    </tr>\n",
       "  </thead>\n",
       "  <tbody>\n",
       "    <tr>\n",
       "      <th>0</th>\n",
       "      <td>POINT (-73.98384524707862 40.66433221370896)</td>\n",
       "      <td>444</td>\n",
       "      <td>3.0</td>\n",
       "      <td>Brooklyn</td>\n",
       "      <td>306.0</td>\n",
       "      <td>39.0</td>\n",
       "      <td>44.0</td>\n",
       "      <td>21.0</td>\n",
       "      <td>9.0</td>\n",
       "      <td>1921</td>\n",
       "      <td>General</td>\n",
       "      <td>05/09/2013</td>\n",
       "      <td>412 7th Avenue</td>\n",
       "      <td>412 7th Avenue</td>\n",
       "      <td>7th Avenue</td>\n",
       "      <td>13th &amp; 14th Street</td>\n",
       "      <td>Brooklyn</td>\n",
       "      <td>306</td>\n",
       "      <td>B67</td>\n",
       "      <td>Not Applicable</td>\n",
       "      <td>40.664332</td>\n",
       "      <td>-73.983845</td>\n",
       "      <td>Park Slope</td>\n",
       "      <td>X</td>\n",
       "      <td>AREA OF MINIMAL FLOOD HAZARD</td>\n",
       "      <td>NaN</td>\n",
       "      <td>BACKLESS 1.0</td>\n",
       "    </tr>\n",
       "    <tr>\n",
       "      <th>1</th>\n",
       "      <td>POINT (-73.98150878289019 40.67476959289031)</td>\n",
       "      <td>554</td>\n",
       "      <td>3.0</td>\n",
       "      <td>Brooklyn</td>\n",
       "      <td>306.0</td>\n",
       "      <td>39.0</td>\n",
       "      <td>52.0</td>\n",
       "      <td>25.0</td>\n",
       "      <td>7.0</td>\n",
       "      <td>1003</td>\n",
       "      <td>General</td>\n",
       "      <td>01/17/2013</td>\n",
       "      <td>249 Fifth Avenue</td>\n",
       "      <td>249 Fifth Avenue</td>\n",
       "      <td>5th Avenue</td>\n",
       "      <td>Garfield Street and Carroll Street</td>\n",
       "      <td>Brooklyn</td>\n",
       "      <td>306</td>\n",
       "      <td>B63</td>\n",
       "      <td>Fifth Avenue</td>\n",
       "      <td>40.674770</td>\n",
       "      <td>-73.981509</td>\n",
       "      <td>Park Slope</td>\n",
       "      <td>X</td>\n",
       "      <td>AREA OF MINIMAL FLOOD HAZARD</td>\n",
       "      <td>NaN</td>\n",
       "      <td>BACKLESS 1.0</td>\n",
       "    </tr>\n",
       "    <tr>\n",
       "      <th>2</th>\n",
       "      <td>POINT (-73.97765557314123 40.72556926663563)</td>\n",
       "      <td>1999</td>\n",
       "      <td>1.0</td>\n",
       "      <td>Manhattan</td>\n",
       "      <td>103.0</td>\n",
       "      <td>2.0</td>\n",
       "      <td>74.0</td>\n",
       "      <td>27.0</td>\n",
       "      <td>12.0</td>\n",
       "      <td>1938</td>\n",
       "      <td>General</td>\n",
       "      <td>07/23/2013</td>\n",
       "      <td>157 Avenue C</td>\n",
       "      <td>155-157 Avenue C</td>\n",
       "      <td>Avenue C</td>\n",
       "      <td>9th &amp; 10th Street</td>\n",
       "      <td>Manhattan</td>\n",
       "      <td>103</td>\n",
       "      <td>Not Applicable</td>\n",
       "      <td>Not Applicable</td>\n",
       "      <td>40.725569</td>\n",
       "      <td>-73.977656</td>\n",
       "      <td>East Village</td>\n",
       "      <td>AE</td>\n",
       "      <td>NaN</td>\n",
       "      <td>1.0</td>\n",
       "      <td>BACKED 1.0</td>\n",
       "    </tr>\n",
       "    <tr>\n",
       "      <th>3</th>\n",
       "      <td>POINT (-73.78932962160363 40.59289898540395)</td>\n",
       "      <td>2231</td>\n",
       "      <td>4.0</td>\n",
       "      <td>Queens</td>\n",
       "      <td>414.0</td>\n",
       "      <td>31.0</td>\n",
       "      <td>31.0</td>\n",
       "      <td>10.0</td>\n",
       "      <td>5.0</td>\n",
       "      <td>67</td>\n",
       "      <td>sbs</td>\n",
       "      <td>02/05/2019</td>\n",
       "      <td>219 Beach 59th St</td>\n",
       "      <td>219 Beach 59th St</td>\n",
       "      <td>Arverne Blvd</td>\n",
       "      <td>Beach 59th Street &amp; Beach 62nd Street</td>\n",
       "      <td>Queens</td>\n",
       "      <td>55</td>\n",
       "      <td>q53</td>\n",
       "      <td>NaN</td>\n",
       "      <td>40.592899</td>\n",
       "      <td>-73.789330</td>\n",
       "      <td>Rockaway Beach-Arverne-Edgemere</td>\n",
       "      <td>AE</td>\n",
       "      <td>NaN</td>\n",
       "      <td>1.0</td>\n",
       "      <td>LEANING BAR</td>\n",
       "    </tr>\n",
       "    <tr>\n",
       "      <th>4</th>\n",
       "      <td>POINT (-73.89717766190195 40.862273157905065)</td>\n",
       "      <td>2162</td>\n",
       "      <td>2.0</td>\n",
       "      <td>Bronx</td>\n",
       "      <td>205.0</td>\n",
       "      <td>15.0</td>\n",
       "      <td>78.0</td>\n",
       "      <td>33.0</td>\n",
       "      <td>15.0</td>\n",
       "      <td>1194</td>\n",
       "      <td>BID</td>\n",
       "      <td>10/22/2012</td>\n",
       "      <td>South side Overpass at East Fordham Rd and Gra...</td>\n",
       "      <td>40°51'44.5\"N 73°53'49.8\"W</td>\n",
       "      <td>East Fordham Road</td>\n",
       "      <td>Grand Concourse East and West</td>\n",
       "      <td>Bronx</td>\n",
       "      <td>205</td>\n",
       "      <td>Not Applicable</td>\n",
       "      <td>Fordham Road</td>\n",
       "      <td>40.862273</td>\n",
       "      <td>-73.897178</td>\n",
       "      <td>Fordham Heights</td>\n",
       "      <td>X</td>\n",
       "      <td>AREA OF MINIMAL FLOOD HAZARD</td>\n",
       "      <td>NaN</td>\n",
       "      <td>BACKED 1.0</td>\n",
       "    </tr>\n",
       "  </tbody>\n",
       "</table>\n",
       "</div>"
      ],
      "text/plain": [
       "                                        the_geom  ObjectID  BoroCode  \\\n",
       "0   POINT (-73.98384524707862 40.66433221370896)       444       3.0   \n",
       "1   POINT (-73.98150878289019 40.67476959289031)       554       3.0   \n",
       "2   POINT (-73.97765557314123 40.72556926663563)      1999       1.0   \n",
       "3   POINT (-73.78932962160363 40.59289898540395)      2231       4.0   \n",
       "4  POINT (-73.89717766190195 40.862273157905065)      2162       2.0   \n",
       "\n",
       "    BoroName  BoroCD  CounDist  AssemDist  StSenDist  CongDist  SiteID  \\\n",
       "0   Brooklyn   306.0      39.0       44.0       21.0       9.0    1921   \n",
       "1   Brooklyn   306.0      39.0       52.0       25.0       7.0    1003   \n",
       "2  Manhattan   103.0       2.0       74.0       27.0      12.0    1938   \n",
       "3     Queens   414.0      31.0       31.0       10.0       5.0      67   \n",
       "4      Bronx   205.0      15.0       78.0       33.0      15.0    1194   \n",
       "\n",
       "  Category  Installati                                            Address  \\\n",
       "0  General  05/09/2013                                     412 7th Avenue   \n",
       "1  General  01/17/2013                                   249 Fifth Avenue   \n",
       "2  General  07/23/2013                                       157 Avenue C   \n",
       "3      sbs  02/05/2019                                  219 Beach 59th St   \n",
       "4      BID  10/22/2012  South side Overpass at East Fordham Rd and Gra...   \n",
       "\n",
       "                  GeocodeAdd             Street  \\\n",
       "0             412 7th Avenue         7th Avenue   \n",
       "1           249 Fifth Avenue         5th Avenue   \n",
       "2           155-157 Avenue C           Avenue C   \n",
       "3          219 Beach 59th St       Arverne Blvd   \n",
       "4  40°51'44.5\"N 73°53'49.8\"W  East Fordham Road   \n",
       "\n",
       "                              CrossStree    Borough  ComDist        BusRoute  \\\n",
       "0                     13th & 14th Street   Brooklyn      306             B67   \n",
       "1     Garfield Street and Carroll Street   Brooklyn      306             B63   \n",
       "2                      9th & 10th Street  Manhattan      103  Not Applicable   \n",
       "3  Beach 59th Street & Beach 62nd Street     Queens       55             q53   \n",
       "4          Grand Concourse East and West      Bronx      205  Not Applicable   \n",
       "\n",
       "              BID   Latitude  Longitude                          NTAName  \\\n",
       "0  Not Applicable  40.664332 -73.983845                       Park Slope   \n",
       "1    Fifth Avenue  40.674770 -73.981509                       Park Slope   \n",
       "2  Not Applicable  40.725569 -73.977656                     East Village   \n",
       "3             NaN  40.592899 -73.789330  Rockaway Beach-Arverne-Edgemere   \n",
       "4    Fordham Road  40.862273 -73.897178                  Fordham Heights   \n",
       "\n",
       "  FEMAFldz                      FEMAFldT  HrcEvac    SeatingTyp  \n",
       "0        X  AREA OF MINIMAL FLOOD HAZARD      NaN  BACKLESS 1.0  \n",
       "1        X  AREA OF MINIMAL FLOOD HAZARD      NaN  BACKLESS 1.0  \n",
       "2       AE                           NaN      1.0    BACKED 1.0  \n",
       "3       AE                           NaN      1.0   LEANING BAR  \n",
       "4        X  AREA OF MINIMAL FLOOD HAZARD      NaN    BACKED 1.0  "
      ]
     },
     "execution_count": 3,
     "metadata": {},
     "output_type": "execute_result"
    }
   ],
   "source": [
    "df = pd.read_csv(\"data/Seating_Locations.csv\")\n",
    "pd.set_option('display.max_columns', None)\n",
    "df.head()"
   ]
  },
  {
   "cell_type": "code",
   "execution_count": 4,
   "id": "d96e6e66",
   "metadata": {},
   "outputs": [
    {
     "data": {
      "text/plain": [
       "the_geom       object\n",
       "ObjectID        int64\n",
       "BoroCode      float64\n",
       "BoroName       object\n",
       "BoroCD        float64\n",
       "CounDist      float64\n",
       "AssemDist     float64\n",
       "StSenDist     float64\n",
       "CongDist      float64\n",
       "SiteID          int64\n",
       "Category       object\n",
       "Installati     object\n",
       "Address        object\n",
       "GeocodeAdd     object\n",
       "Street         object\n",
       "CrossStree     object\n",
       "Borough        object\n",
       "ComDist         int64\n",
       "BusRoute       object\n",
       "BID            object\n",
       "Latitude      float64\n",
       "Longitude     float64\n",
       "NTAName        object\n",
       "FEMAFldz       object\n",
       "FEMAFldT       object\n",
       "HrcEvac       float64\n",
       "SeatingTyp     object\n",
       "dtype: object"
      ]
     },
     "execution_count": 4,
     "metadata": {},
     "output_type": "execute_result"
    }
   ],
   "source": [
    "df.dtypes"
   ]
  },
  {
   "cell_type": "code",
   "execution_count": 5,
   "id": "344cfbf7",
   "metadata": {},
   "outputs": [
    {
     "name": "stderr",
     "output_type": "stream",
     "text": [
      "/var/folders/0h/2v5mxpvs49s0_gs3lqjt474h0000gn/T/ipykernel_65325/3849312665.py:4: FutureWarning: The default value of regex will change from True to False in a future version.\n",
      "  df['SeatingTyp']=df.SeatingTyp.str.replace(\" 1.0\",\"\").str.replace(\" 2.0\",\"\")\n"
     ]
    },
    {
     "data": {
      "text/html": [
       "<div>\n",
       "<style scoped>\n",
       "    .dataframe tbody tr th:only-of-type {\n",
       "        vertical-align: middle;\n",
       "    }\n",
       "\n",
       "    .dataframe tbody tr th {\n",
       "        vertical-align: top;\n",
       "    }\n",
       "\n",
       "    .dataframe thead th {\n",
       "        text-align: right;\n",
       "    }\n",
       "</style>\n",
       "<table border=\"1\" class=\"dataframe\">\n",
       "  <thead>\n",
       "    <tr style=\"text-align: right;\">\n",
       "      <th></th>\n",
       "      <th>the_geom</th>\n",
       "      <th>ObjectID</th>\n",
       "      <th>BoroCode</th>\n",
       "      <th>BoroName</th>\n",
       "      <th>BoroCD</th>\n",
       "      <th>CounDist</th>\n",
       "      <th>AssemDist</th>\n",
       "      <th>StSenDist</th>\n",
       "      <th>CongDist</th>\n",
       "      <th>SiteID</th>\n",
       "      <th>Category</th>\n",
       "      <th>Installati</th>\n",
       "      <th>Address</th>\n",
       "      <th>GeocodeAdd</th>\n",
       "      <th>Street</th>\n",
       "      <th>CrossStree</th>\n",
       "      <th>Borough</th>\n",
       "      <th>ComDist</th>\n",
       "      <th>BusRoute</th>\n",
       "      <th>BID</th>\n",
       "      <th>Latitude</th>\n",
       "      <th>Longitude</th>\n",
       "      <th>NTAName</th>\n",
       "      <th>FEMAFldz</th>\n",
       "      <th>FEMAFldT</th>\n",
       "      <th>HrcEvac</th>\n",
       "      <th>SeatingTyp</th>\n",
       "      <th>date</th>\n",
       "    </tr>\n",
       "  </thead>\n",
       "  <tbody>\n",
       "    <tr>\n",
       "      <th>0</th>\n",
       "      <td>POINT (-73.98384524707862 40.66433221370896)</td>\n",
       "      <td>444</td>\n",
       "      <td>3.0</td>\n",
       "      <td>Brooklyn</td>\n",
       "      <td>306.0</td>\n",
       "      <td>39.0</td>\n",
       "      <td>44.0</td>\n",
       "      <td>21.0</td>\n",
       "      <td>9.0</td>\n",
       "      <td>1921</td>\n",
       "      <td>General</td>\n",
       "      <td>05/09/2013</td>\n",
       "      <td>412 7th Avenue</td>\n",
       "      <td>412 7th Avenue</td>\n",
       "      <td>7th Avenue</td>\n",
       "      <td>13th &amp; 14th Street</td>\n",
       "      <td>Brooklyn</td>\n",
       "      <td>306</td>\n",
       "      <td>B67</td>\n",
       "      <td>Not Applicable</td>\n",
       "      <td>40.664332</td>\n",
       "      <td>-73.983845</td>\n",
       "      <td>Park Slope</td>\n",
       "      <td>X</td>\n",
       "      <td>AREA OF MINIMAL FLOOD HAZARD</td>\n",
       "      <td>NaN</td>\n",
       "      <td>BACKLESS</td>\n",
       "      <td>2013-05-09</td>\n",
       "    </tr>\n",
       "    <tr>\n",
       "      <th>1</th>\n",
       "      <td>POINT (-73.98150878289019 40.67476959289031)</td>\n",
       "      <td>554</td>\n",
       "      <td>3.0</td>\n",
       "      <td>Brooklyn</td>\n",
       "      <td>306.0</td>\n",
       "      <td>39.0</td>\n",
       "      <td>52.0</td>\n",
       "      <td>25.0</td>\n",
       "      <td>7.0</td>\n",
       "      <td>1003</td>\n",
       "      <td>General</td>\n",
       "      <td>01/17/2013</td>\n",
       "      <td>249 Fifth Avenue</td>\n",
       "      <td>249 Fifth Avenue</td>\n",
       "      <td>5th Avenue</td>\n",
       "      <td>Garfield Street and Carroll Street</td>\n",
       "      <td>Brooklyn</td>\n",
       "      <td>306</td>\n",
       "      <td>B63</td>\n",
       "      <td>Fifth Avenue</td>\n",
       "      <td>40.674770</td>\n",
       "      <td>-73.981509</td>\n",
       "      <td>Park Slope</td>\n",
       "      <td>X</td>\n",
       "      <td>AREA OF MINIMAL FLOOD HAZARD</td>\n",
       "      <td>NaN</td>\n",
       "      <td>BACKLESS</td>\n",
       "      <td>2013-01-17</td>\n",
       "    </tr>\n",
       "    <tr>\n",
       "      <th>2</th>\n",
       "      <td>POINT (-73.97765557314123 40.72556926663563)</td>\n",
       "      <td>1999</td>\n",
       "      <td>1.0</td>\n",
       "      <td>Manhattan</td>\n",
       "      <td>103.0</td>\n",
       "      <td>2.0</td>\n",
       "      <td>74.0</td>\n",
       "      <td>27.0</td>\n",
       "      <td>12.0</td>\n",
       "      <td>1938</td>\n",
       "      <td>General</td>\n",
       "      <td>07/23/2013</td>\n",
       "      <td>157 Avenue C</td>\n",
       "      <td>155-157 Avenue C</td>\n",
       "      <td>Avenue C</td>\n",
       "      <td>9th &amp; 10th Street</td>\n",
       "      <td>Manhattan</td>\n",
       "      <td>103</td>\n",
       "      <td>Not Applicable</td>\n",
       "      <td>Not Applicable</td>\n",
       "      <td>40.725569</td>\n",
       "      <td>-73.977656</td>\n",
       "      <td>East Village</td>\n",
       "      <td>AE</td>\n",
       "      <td>NaN</td>\n",
       "      <td>1.0</td>\n",
       "      <td>BACKED</td>\n",
       "      <td>2013-07-23</td>\n",
       "    </tr>\n",
       "    <tr>\n",
       "      <th>3</th>\n",
       "      <td>POINT (-73.78932962160363 40.59289898540395)</td>\n",
       "      <td>2231</td>\n",
       "      <td>4.0</td>\n",
       "      <td>Queens</td>\n",
       "      <td>414.0</td>\n",
       "      <td>31.0</td>\n",
       "      <td>31.0</td>\n",
       "      <td>10.0</td>\n",
       "      <td>5.0</td>\n",
       "      <td>67</td>\n",
       "      <td>sbs</td>\n",
       "      <td>02/05/2019</td>\n",
       "      <td>219 Beach 59th St</td>\n",
       "      <td>219 Beach 59th St</td>\n",
       "      <td>Arverne Blvd</td>\n",
       "      <td>Beach 59th Street &amp; Beach 62nd Street</td>\n",
       "      <td>Queens</td>\n",
       "      <td>55</td>\n",
       "      <td>q53</td>\n",
       "      <td>NaN</td>\n",
       "      <td>40.592899</td>\n",
       "      <td>-73.789330</td>\n",
       "      <td>Rockaway Beach-Arverne-Edgemere</td>\n",
       "      <td>AE</td>\n",
       "      <td>NaN</td>\n",
       "      <td>1.0</td>\n",
       "      <td>LEANING BAR</td>\n",
       "      <td>2019-02-05</td>\n",
       "    </tr>\n",
       "    <tr>\n",
       "      <th>4</th>\n",
       "      <td>POINT (-73.89717766190195 40.862273157905065)</td>\n",
       "      <td>2162</td>\n",
       "      <td>2.0</td>\n",
       "      <td>Bronx</td>\n",
       "      <td>205.0</td>\n",
       "      <td>15.0</td>\n",
       "      <td>78.0</td>\n",
       "      <td>33.0</td>\n",
       "      <td>15.0</td>\n",
       "      <td>1194</td>\n",
       "      <td>BID</td>\n",
       "      <td>10/22/2012</td>\n",
       "      <td>South side Overpass at East Fordham Rd and Gra...</td>\n",
       "      <td>40°51'44.5\"N 73°53'49.8\"W</td>\n",
       "      <td>East Fordham Road</td>\n",
       "      <td>Grand Concourse East and West</td>\n",
       "      <td>Bronx</td>\n",
       "      <td>205</td>\n",
       "      <td>Not Applicable</td>\n",
       "      <td>Fordham Road</td>\n",
       "      <td>40.862273</td>\n",
       "      <td>-73.897178</td>\n",
       "      <td>Fordham Heights</td>\n",
       "      <td>X</td>\n",
       "      <td>AREA OF MINIMAL FLOOD HAZARD</td>\n",
       "      <td>NaN</td>\n",
       "      <td>BACKED</td>\n",
       "      <td>2012-10-22</td>\n",
       "    </tr>\n",
       "  </tbody>\n",
       "</table>\n",
       "</div>"
      ],
      "text/plain": [
       "                                        the_geom  ObjectID  BoroCode  \\\n",
       "0   POINT (-73.98384524707862 40.66433221370896)       444       3.0   \n",
       "1   POINT (-73.98150878289019 40.67476959289031)       554       3.0   \n",
       "2   POINT (-73.97765557314123 40.72556926663563)      1999       1.0   \n",
       "3   POINT (-73.78932962160363 40.59289898540395)      2231       4.0   \n",
       "4  POINT (-73.89717766190195 40.862273157905065)      2162       2.0   \n",
       "\n",
       "    BoroName  BoroCD  CounDist  AssemDist  StSenDist  CongDist  SiteID  \\\n",
       "0   Brooklyn   306.0      39.0       44.0       21.0       9.0    1921   \n",
       "1   Brooklyn   306.0      39.0       52.0       25.0       7.0    1003   \n",
       "2  Manhattan   103.0       2.0       74.0       27.0      12.0    1938   \n",
       "3     Queens   414.0      31.0       31.0       10.0       5.0      67   \n",
       "4      Bronx   205.0      15.0       78.0       33.0      15.0    1194   \n",
       "\n",
       "  Category  Installati                                            Address  \\\n",
       "0  General  05/09/2013                                     412 7th Avenue   \n",
       "1  General  01/17/2013                                   249 Fifth Avenue   \n",
       "2  General  07/23/2013                                       157 Avenue C   \n",
       "3      sbs  02/05/2019                                  219 Beach 59th St   \n",
       "4      BID  10/22/2012  South side Overpass at East Fordham Rd and Gra...   \n",
       "\n",
       "                  GeocodeAdd             Street  \\\n",
       "0             412 7th Avenue         7th Avenue   \n",
       "1           249 Fifth Avenue         5th Avenue   \n",
       "2           155-157 Avenue C           Avenue C   \n",
       "3          219 Beach 59th St       Arverne Blvd   \n",
       "4  40°51'44.5\"N 73°53'49.8\"W  East Fordham Road   \n",
       "\n",
       "                              CrossStree    Borough  ComDist        BusRoute  \\\n",
       "0                     13th & 14th Street   Brooklyn      306             B67   \n",
       "1     Garfield Street and Carroll Street   Brooklyn      306             B63   \n",
       "2                      9th & 10th Street  Manhattan      103  Not Applicable   \n",
       "3  Beach 59th Street & Beach 62nd Street     Queens       55             q53   \n",
       "4          Grand Concourse East and West      Bronx      205  Not Applicable   \n",
       "\n",
       "              BID   Latitude  Longitude                          NTAName  \\\n",
       "0  Not Applicable  40.664332 -73.983845                       Park Slope   \n",
       "1    Fifth Avenue  40.674770 -73.981509                       Park Slope   \n",
       "2  Not Applicable  40.725569 -73.977656                     East Village   \n",
       "3             NaN  40.592899 -73.789330  Rockaway Beach-Arverne-Edgemere   \n",
       "4    Fordham Road  40.862273 -73.897178                  Fordham Heights   \n",
       "\n",
       "  FEMAFldz                      FEMAFldT  HrcEvac   SeatingTyp       date  \n",
       "0        X  AREA OF MINIMAL FLOOD HAZARD      NaN     BACKLESS 2013-05-09  \n",
       "1        X  AREA OF MINIMAL FLOOD HAZARD      NaN     BACKLESS 2013-01-17  \n",
       "2       AE                           NaN      1.0       BACKED 2013-07-23  \n",
       "3       AE                           NaN      1.0  LEANING BAR 2019-02-05  \n",
       "4        X  AREA OF MINIMAL FLOOD HAZARD      NaN       BACKED 2012-10-22  "
      ]
     },
     "execution_count": 5,
     "metadata": {},
     "output_type": "execute_result"
    }
   ],
   "source": [
    "# Get a datetime column\n",
    "df['date']=pd.to_datetime(df['Installati'])\n",
    "# Cleaning types of benches column\n",
    "df['SeatingTyp']=df.SeatingTyp.str.replace(\" 1.0\",\"\").str.replace(\" 2.0\",\"\")\n",
    "df.head()"
   ]
  },
  {
   "cell_type": "code",
   "execution_count": 6,
   "id": "85711b0d",
   "metadata": {},
   "outputs": [
    {
     "data": {
      "text/plain": [
       "<AxesSubplot: xlabel='date'>"
      ]
     },
     "execution_count": 6,
     "metadata": {},
     "output_type": "execute_result"
    },
    {
     "data": {
      "image/png": "[encoded data removed]",
      "text/plain": [
       "<Figure size 640x480 with 1 Axes>"
      ]
     },
     "metadata": {},
     "output_type": "display_data"
    }
   ],
   "source": [
    "# Plot newly installed benches per month\n",
    "df.resample('M', on='date').ObjectID.count().plot()"
   ]
  },
  {
   "cell_type": "code",
   "execution_count": 7,
   "id": "62b1a8e5",
   "metadata": {},
   "outputs": [
    {
     "data": {
      "text/plain": [
       "<AxesSubplot: xlabel='date'>"
      ]
     },
     "execution_count": 7,
     "metadata": {},
     "output_type": "execute_result"
    },
    {
     "data": {
      "image/png": "[encoded data removed]",
      "text/plain": [
       "<Figure size 640x480 with 1 Axes>"
      ]
     },
     "metadata": {},
     "output_type": "display_data"
    }
   ],
   "source": [
    "# Plot newly installed benches per year\n",
    "df.resample('Y', on='date').ObjectID.count().plot()"
   ]
  },
  {
   "cell_type": "code",
   "execution_count": 8,
   "id": "1355c0b7",
   "metadata": {},
   "outputs": [
    {
     "data": {
      "text/plain": [
       "BACKED         1463\n",
       "BACKLESS        688\n",
       "LEANING BAR      75\n",
       "Unknown          15\n",
       "Name: SeatingTyp, dtype: int64"
      ]
     },
     "execution_count": 8,
     "metadata": {},
     "output_type": "execute_result"
    }
   ],
   "source": [
    "df.SeatingTyp.value_counts()"
   ]
  },
  {
   "cell_type": "code",
   "execution_count": 9,
   "id": "36a88a02",
   "metadata": {},
   "outputs": [
    {
     "data": {
      "text/plain": [
       "<AxesSubplot: xlabel='date'>"
      ]
     },
     "execution_count": 9,
     "metadata": {},
     "output_type": "execute_result"
    },
    {
     "data": {
      "image/png": "[encoded data removed]",
      "text/plain": [
       "<Figure size 640x480 with 1 Axes>"
      ]
     },
     "metadata": {},
     "output_type": "display_data"
    }
   ],
   "source": [
    "# I'm interested in seeing when the city starting installing benches that are less comfortable (backless and leaning bar)\n",
    "df[df['SeatingTyp']=='LEANING BAR'].resample('Y', on='date').ObjectID.count().plot()"
   ]
  },
  {
   "cell_type": "code",
   "execution_count": 10,
   "id": "4b02fa5d",
   "metadata": {},
   "outputs": [
    {
     "data": {
      "text/plain": [
       "<AxesSubplot: xlabel='date'>"
      ]
     },
     "execution_count": 10,
     "metadata": {},
     "output_type": "execute_result"
    },
    {
     "data": {
      "image/png": "[encoded data removed]",
      "text/plain": [
       "<Figure size 640x480 with 1 Axes>"
      ]
     },
     "metadata": {},
     "output_type": "display_data"
    }
   ],
   "source": [
    "df[df['SeatingTyp']=='BACKLESS'].resample('Y', on='date').ObjectID.count().plot()"
   ]
  },
  {
   "cell_type": "code",
   "execution_count": 11,
   "id": "2b5ee3f1",
   "metadata": {},
   "outputs": [
    {
     "data": {
      "text/plain": [
       "<AxesSubplot: xlabel='date'>"
      ]
     },
     "execution_count": 11,
     "metadata": {},
     "output_type": "execute_result"
    },
    {
     "data": {
      "image/png": "[encoded data removed]",
      "text/plain": [
       "<Figure size 640x480 with 1 Axes>"
      ]
     },
     "metadata": {},
     "output_type": "display_data"
    }
   ],
   "source": [
    "df[df['SeatingTyp']=='BACKED'].resample('Y', on='date').ObjectID.count().plot()"
   ]
  },
  {
   "cell_type": "code",
   "execution_count": 12,
   "id": "6baf4b64",
   "metadata": {},
   "outputs": [
    {
     "data": {
      "text/html": [
       "<div>\n",
       "<style scoped>\n",
       "    .dataframe tbody tr th:only-of-type {\n",
       "        vertical-align: middle;\n",
       "    }\n",
       "\n",
       "    .dataframe tbody tr th {\n",
       "        vertical-align: top;\n",
       "    }\n",
       "\n",
       "    .dataframe thead th {\n",
       "        text-align: right;\n",
       "    }\n",
       "</style>\n",
       "<table border=\"1\" class=\"dataframe\">\n",
       "  <thead>\n",
       "    <tr style=\"text-align: right;\">\n",
       "      <th></th>\n",
       "      <th>the_geom</th>\n",
       "      <th>ObjectID</th>\n",
       "      <th>BoroCode</th>\n",
       "      <th>BoroName</th>\n",
       "      <th>BoroCD</th>\n",
       "      <th>CounDist</th>\n",
       "      <th>AssemDist</th>\n",
       "      <th>StSenDist</th>\n",
       "      <th>CongDist</th>\n",
       "      <th>SiteID</th>\n",
       "      <th>Category</th>\n",
       "      <th>Installati</th>\n",
       "      <th>Address</th>\n",
       "      <th>GeocodeAdd</th>\n",
       "      <th>Street</th>\n",
       "      <th>CrossStree</th>\n",
       "      <th>Borough</th>\n",
       "      <th>ComDist</th>\n",
       "      <th>BusRoute</th>\n",
       "      <th>BID</th>\n",
       "      <th>Latitude</th>\n",
       "      <th>Longitude</th>\n",
       "      <th>NTAName</th>\n",
       "      <th>FEMAFldz</th>\n",
       "      <th>FEMAFldT</th>\n",
       "      <th>HrcEvac</th>\n",
       "      <th>SeatingTyp</th>\n",
       "      <th>date</th>\n",
       "      <th>year</th>\n",
       "    </tr>\n",
       "  </thead>\n",
       "  <tbody>\n",
       "    <tr>\n",
       "      <th>0</th>\n",
       "      <td>POINT (-73.98384524707862 40.66433221370896)</td>\n",
       "      <td>444</td>\n",
       "      <td>3.0</td>\n",
       "      <td>Brooklyn</td>\n",
       "      <td>306.0</td>\n",
       "      <td>39.0</td>\n",
       "      <td>44.0</td>\n",
       "      <td>21.0</td>\n",
       "      <td>9.0</td>\n",
       "      <td>1921</td>\n",
       "      <td>General</td>\n",
       "      <td>05/09/2013</td>\n",
       "      <td>412 7th Avenue</td>\n",
       "      <td>412 7th Avenue</td>\n",
       "      <td>7th Avenue</td>\n",
       "      <td>13th &amp; 14th Street</td>\n",
       "      <td>Brooklyn</td>\n",
       "      <td>306</td>\n",
       "      <td>B67</td>\n",
       "      <td>Not Applicable</td>\n",
       "      <td>40.664332</td>\n",
       "      <td>-73.983845</td>\n",
       "      <td>Park Slope</td>\n",
       "      <td>X</td>\n",
       "      <td>AREA OF MINIMAL FLOOD HAZARD</td>\n",
       "      <td>NaN</td>\n",
       "      <td>BACKLESS</td>\n",
       "      <td>2013-05-09</td>\n",
       "      <td>2013.0</td>\n",
       "    </tr>\n",
       "    <tr>\n",
       "      <th>1</th>\n",
       "      <td>POINT (-73.98150878289019 40.67476959289031)</td>\n",
       "      <td>554</td>\n",
       "      <td>3.0</td>\n",
       "      <td>Brooklyn</td>\n",
       "      <td>306.0</td>\n",
       "      <td>39.0</td>\n",
       "      <td>52.0</td>\n",
       "      <td>25.0</td>\n",
       "      <td>7.0</td>\n",
       "      <td>1003</td>\n",
       "      <td>General</td>\n",
       "      <td>01/17/2013</td>\n",
       "      <td>249 Fifth Avenue</td>\n",
       "      <td>249 Fifth Avenue</td>\n",
       "      <td>5th Avenue</td>\n",
       "      <td>Garfield Street and Carroll Street</td>\n",
       "      <td>Brooklyn</td>\n",
       "      <td>306</td>\n",
       "      <td>B63</td>\n",
       "      <td>Fifth Avenue</td>\n",
       "      <td>40.674770</td>\n",
       "      <td>-73.981509</td>\n",
       "      <td>Park Slope</td>\n",
       "      <td>X</td>\n",
       "      <td>AREA OF MINIMAL FLOOD HAZARD</td>\n",
       "      <td>NaN</td>\n",
       "      <td>BACKLESS</td>\n",
       "      <td>2013-01-17</td>\n",
       "      <td>2013.0</td>\n",
       "    </tr>\n",
       "  </tbody>\n",
       "</table>\n",
       "</div>"
      ],
      "text/plain": [
       "                                       the_geom  ObjectID  BoroCode  BoroName  \\\n",
       "0  POINT (-73.98384524707862 40.66433221370896)       444       3.0  Brooklyn   \n",
       "1  POINT (-73.98150878289019 40.67476959289031)       554       3.0  Brooklyn   \n",
       "\n",
       "   BoroCD  CounDist  AssemDist  StSenDist  CongDist  SiteID Category  \\\n",
       "0   306.0      39.0       44.0       21.0       9.0    1921  General   \n",
       "1   306.0      39.0       52.0       25.0       7.0    1003  General   \n",
       "\n",
       "   Installati           Address        GeocodeAdd      Street  \\\n",
       "0  05/09/2013    412 7th Avenue    412 7th Avenue  7th Avenue   \n",
       "1  01/17/2013  249 Fifth Avenue  249 Fifth Avenue  5th Avenue   \n",
       "\n",
       "                           CrossStree   Borough  ComDist BusRoute  \\\n",
       "0                  13th & 14th Street  Brooklyn      306      B67   \n",
       "1  Garfield Street and Carroll Street  Brooklyn      306      B63   \n",
       "\n",
       "              BID   Latitude  Longitude     NTAName FEMAFldz  \\\n",
       "0  Not Applicable  40.664332 -73.983845  Park Slope        X   \n",
       "1    Fifth Avenue  40.674770 -73.981509  Park Slope        X   \n",
       "\n",
       "                       FEMAFldT  HrcEvac SeatingTyp       date    year  \n",
       "0  AREA OF MINIMAL FLOOD HAZARD      NaN   BACKLESS 2013-05-09  2013.0  \n",
       "1  AREA OF MINIMAL FLOOD HAZARD      NaN   BACKLESS 2013-01-17  2013.0  "
      ]
     },
     "execution_count": 12,
     "metadata": {},
     "output_type": "execute_result"
    }
   ],
   "source": [
    "df['year'] = pd.DatetimeIndex(df['date']).year\n",
    "df.head(2)"
   ]
  },
  {
   "cell_type": "code",
   "execution_count": 13,
   "id": "fb89b612",
   "metadata": {
    "scrolled": true
   },
   "outputs": [
    {
     "data": {
      "text/plain": [
       "Brooklyn         807\n",
       "Manhattan        529\n",
       "Queens           516\n",
       "Bronx            330\n",
       "Staten Island     57\n",
       "Name: BoroName, dtype: int64"
      ]
     },
     "execution_count": 13,
     "metadata": {},
     "output_type": "execute_result"
    }
   ],
   "source": [
    "df.BoroName.value_counts()"
   ]
  },
  {
   "cell_type": "code",
   "execution_count": 14,
   "id": "d9e9fa46",
   "metadata": {},
   "outputs": [],
   "source": [
    "df.to_csv(\"data/cleaned_df.csv\", index=False)"
   ]
  },
  {
   "cell_type": "code",
   "execution_count": 15,
   "id": "05e2b3cc",
   "metadata": {},
   "outputs": [],
   "source": [
    "%load_ext rpy2.ipython"
   ]
  },
  {
   "cell_type": "code",
   "execution_count": 16,
   "id": "29b00436",
   "metadata": {},
   "outputs": [
    {
     "name": "stderr",
     "output_type": "stream",
     "text": [
      "R[write to console]: Loading required package: tidyverse\n",
      "\n"
     ]
    },
    {
     "name": "stdout",
     "output_type": "stream",
     "text": [
      "── Attaching packages ─────────────────────────────────────── tidyverse 1.3.2 ──\n",
      "✔ ggplot2 3.4.1      ✔ purrr   0.3.5 \n",
      "✔ tibble  3.1.8      ✔ dplyr   1.0.10\n",
      "✔ tidyr   1.2.1      ✔ stringr 1.4.1 \n",
      "✔ readr   2.1.3      ✔ forcats 0.5.2 \n",
      "── Conflicts ────────────────────────────────────────── tidyverse_conflicts() ──\n",
      "✖ dplyr::filter() masks stats::filter()\n",
      "✖ dplyr::lag()    masks stats::lag()\n"
     ]
    }
   ],
   "source": [
    "%%R \n",
    "require(tidyverse)\n",
    "require(ggplot2)"
   ]
  },
  {
   "cell_type": "code",
   "execution_count": 17,
   "id": "04971ea5",
   "metadata": {},
   "outputs": [
    {
     "name": "stdout",
     "output_type": "stream",
     "text": [
      "`summarise()` has grouped output by 'year'. You can override using the\n",
      "`.groups` argument.\n",
      "Saving 8.33 x 5.56 in image\n"
     ]
    }
   ],
   "source": [
    "%%R -i df -w 600 -h 400\n",
    "# Plot bench installation over the year by type\n",
    "year_summary <- df %>%  \n",
    "  filter(SeatingTyp != \"Unknown\")%>%\n",
    "  group_by(year, SeatingTyp) %>% \n",
    "  summarise(count = n())\n",
    "\n",
    "by_year <- ggplot(year_summary,aes(x=year,y=count,color = SeatingTyp))+\n",
    "    geom_line() +\n",
    "#     facet_wrap(~SeatingTyp)+\n",
    "    theme_minimal()+\n",
    "  labs(x = \"Installation Year\", y = \"Number of Benches Installed\")\n",
    "\n",
    "by_year\n",
    "\n",
    "# ggsave(\"bench-by-year.pdf\")"
   ]
  },
  {
   "cell_type": "code",
   "execution_count": 18,
   "id": "956253ac",
   "metadata": {},
   "outputs": [
    {
     "name": "stdout",
     "output_type": "stream",
     "text": [
      "Saving 13.9 x 4.17 in image\n"
     ]
    }
   ],
   "source": [
    "%%R -w 1000 -h 300\n",
    "# Plot bench installation over the year by borough\n",
    "ggplot(df%>%  \n",
    "  filter(BoroName != \"NA\"),aes(x=year, fill=BoroName))+\n",
    "    geom_bar() +\n",
    "    facet_wrap(~BoroName,ncol=5)+\n",
    "    theme_minimal()+\n",
    "  labs(x = \"Installation Year\", y = \"Number of Benches Installed\")\n",
    "# ggsave(\"bench-by-boro.pdf\")"
   ]
  },
  {
   "cell_type": "code",
   "execution_count": 19,
   "id": "fc94c9d0",
   "metadata": {},
   "outputs": [
    {
     "name": "stdout",
     "output_type": "stream",
     "text": [
      "Saving 6.67 x 6.67 in image\n"
     ]
    }
   ],
   "source": [
    "%%R -i df\n",
    "# Plot bench installation over the year by borough\n",
    "\n",
    "ggplot(df%>%  \n",
    "  filter(BoroName != \"NA\"),aes(x=BoroName,fill=BoroName))+\n",
    "    geom_bar() +\n",
    "#     facet_wrap(~br)+\n",
    "    theme_minimal()+\n",
    "  labs(x = \"Borough\", y = \"Number of Benches Installed\")\n",
    "# ggsave(\"bench-all-boro.pdf\")"
   ]
  },
  {
   "cell_type": "code",
   "execution_count": null,
   "id": "87d085a6",
   "metadata": {},
   "outputs": [],
   "source": []
  }
 ],
 "metadata": {
  "kernelspec": {
   "display_name": "Python 3 (ipykernel)",
   "language": "python",
   "name": "python3"
  },
  "language_info": {
   "codemirror_mode": {
    "name": "ipython",
    "version": 3
   },
   "file_extension": ".py",
   "mimetype": "text/x-python",
   "name": "python",
   "nbconvert_exporter": "python",
   "pygments_lexer": "ipython3",
   "version": "3.11.0rc2"
  }
 },
 "nbformat": 4,
 "nbformat_minor": 5
}
